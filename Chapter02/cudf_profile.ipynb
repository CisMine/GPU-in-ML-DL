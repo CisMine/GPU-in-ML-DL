{
 "cells": [
  {
   "cell_type": "code",
   "execution_count": 20,
   "metadata": {},
   "outputs": [
    {
     "name": "stdout",
     "output_type": "stream",
     "text": [
      "The cudf.pandas extension is already loaded. To reload it, use:\n",
      "  %reload_ext cudf.pandas\n"
     ]
    }
   ],
   "source": [
    "%load_ext cudf.pandas\n",
    "import pandas as pd\n"
   ]
  },
  {
   "cell_type": "code",
   "execution_count": 28,
   "metadata": {},
   "outputs": [
    {
     "data": {
      "text/html": [
       "<pre style=\"white-space:pre;overflow-x:auto;line-height:normal;font-family:Menlo,'DejaVu Sans Mono',consolas,'Courier New',monospace\"><span style=\"font-style: italic\">                                                                                                             </span>\n",
       "<span style=\"font-style: italic\">                                          Total time elapsed: 0.215 seconds                                  </span>\n",
       "<span style=\"font-style: italic\">                                        3 GPU function calls in 0.018 seconds                                </span>\n",
       "<span style=\"font-style: italic\">                                        1 CPU function calls in 0.006 seconds                                </span>\n",
       "<span style=\"font-style: italic\">                                                                                                             </span>\n",
       "<span style=\"font-style: italic\">                                                        Stats                                                </span>\n",
       "<span style=\"font-style: italic\">                                                                                                             </span>\n",
       "┏━━━━━━━━━━━━━━━━━━━━━━━━━┳━━━━━━━━━━━━┳━━━━━━━━━━━━━┳━━━━━━━━━━━━━┳━━━━━━━━━━━━┳━━━━━━━━━━━━━┳━━━━━━━━━━━━━┓\n",
       "┃<span style=\"font-weight: bold\"> Function                </span>┃<span style=\"font-weight: bold\"> GPU ncalls </span>┃<span style=\"font-weight: bold\"> GPU cumtime </span>┃<span style=\"font-weight: bold\"> GPU percall </span>┃<span style=\"font-weight: bold\"> CPU ncalls </span>┃<span style=\"font-weight: bold\"> CPU cumtime </span>┃<span style=\"font-weight: bold\"> CPU percall </span>┃\n",
       "┡━━━━━━━━━━━━━━━━━━━━━━━━━╇━━━━━━━━━━━━╇━━━━━━━━━━━━━╇━━━━━━━━━━━━━╇━━━━━━━━━━━━╇━━━━━━━━━━━━━╇━━━━━━━━━━━━━┩\n",
       "│ DataFrame               │ 1          │ 0.013       │ 0.013       │ 0          │ 0.000       │ 0.000       │\n",
       "│ DataFrame.min           │ 1          │ 0.006       │ 0.006       │ 0          │ 0.000       │ 0.000       │\n",
       "│ DataFrame.groupby       │ 1          │ 0.000       │ 0.000       │ 0          │ 0.000       │ 0.000       │\n",
       "│ DataFrameGroupBy.filter │ 0          │ 0.000       │ 0.000       │ 1          │ 0.006       │ 0.006       │\n",
       "└─────────────────────────┴────────────┴─────────────┴─────────────┴────────────┴─────────────┴─────────────┘\n",
       "</pre>\n"
      ],
      "text/plain": [
       "\u001b[3m                                                                                                             \u001b[0m\n",
       "\u001b[3m                                          Total time elapsed: 0.215 seconds                                  \u001b[0m\n",
       "\u001b[3m                                        3 GPU function calls in 0.018 seconds                                \u001b[0m\n",
       "\u001b[3m                                        1 CPU function calls in 0.006 seconds                                \u001b[0m\n",
       "\u001b[3m                                                                                                             \u001b[0m\n",
       "\u001b[3m                                                        Stats                                                \u001b[0m\n",
       "\u001b[3m                                                                                                             \u001b[0m\n",
       "┏━━━━━━━━━━━━━━━━━━━━━━━━━┳━━━━━━━━━━━━┳━━━━━━━━━━━━━┳━━━━━━━━━━━━━┳━━━━━━━━━━━━┳━━━━━━━━━━━━━┳━━━━━━━━━━━━━┓\n",
       "┃\u001b[1m \u001b[0m\u001b[1mFunction               \u001b[0m\u001b[1m \u001b[0m┃\u001b[1m \u001b[0m\u001b[1mGPU ncalls\u001b[0m\u001b[1m \u001b[0m┃\u001b[1m \u001b[0m\u001b[1mGPU cumtime\u001b[0m\u001b[1m \u001b[0m┃\u001b[1m \u001b[0m\u001b[1mGPU percall\u001b[0m\u001b[1m \u001b[0m┃\u001b[1m \u001b[0m\u001b[1mCPU ncalls\u001b[0m\u001b[1m \u001b[0m┃\u001b[1m \u001b[0m\u001b[1mCPU cumtime\u001b[0m\u001b[1m \u001b[0m┃\u001b[1m \u001b[0m\u001b[1mCPU percall\u001b[0m\u001b[1m \u001b[0m┃\n",
       "┡━━━━━━━━━━━━━━━━━━━━━━━━━╇━━━━━━━━━━━━╇━━━━━━━━━━━━━╇━━━━━━━━━━━━━╇━━━━━━━━━━━━╇━━━━━━━━━━━━━╇━━━━━━━━━━━━━┩\n",
       "│ DataFrame               │ 1          │ 0.013       │ 0.013       │ 0          │ 0.000       │ 0.000       │\n",
       "│ DataFrame.min           │ 1          │ 0.006       │ 0.006       │ 0          │ 0.000       │ 0.000       │\n",
       "│ DataFrame.groupby       │ 1          │ 0.000       │ 0.000       │ 0          │ 0.000       │ 0.000       │\n",
       "│ DataFrameGroupBy.filter │ 0          │ 0.000       │ 0.000       │ 1          │ 0.006       │ 0.006       │\n",
       "└─────────────────────────┴────────────┴─────────────┴─────────────┴────────────┴─────────────┴─────────────┘\n"
      ]
     },
     "metadata": {},
     "output_type": "display_data"
    },
    {
     "data": {
      "text/html": [
       "<pre style=\"white-space:pre;overflow-x:auto;line-height:normal;font-family:Menlo,'DejaVu Sans Mono',consolas,'Courier New',monospace\">Not all pandas operations ran on the GPU. The following functions required CPU fallback:\n",
       "\n",
       "- DataFrameGroupBy.filter\n",
       "\n",
       "</pre>\n"
      ],
      "text/plain": [
       "Not all pandas operations ran on the GPU. The following functions required CPU fallback:\n",
       "\n",
       "- DataFrameGroupBy.filter\n",
       "\n"
      ]
     },
     "metadata": {},
     "output_type": "display_data"
    },
    {
     "data": {
      "text/html": [
       "<pre style=\"white-space:pre;overflow-x:auto;line-height:normal;font-family:Menlo,'DejaVu Sans Mono',consolas,'Courier New',monospace\">To request GPU support for any of these functions, please file a Github issue here: \n",
       "<a href=\"https://github.com/rapidsai/cudf/issues/new?assignees=&labels=%3F+-+Needs+Triage%2C+feature+request&projects=&template=pandas_function_request.md&title=%5BFEA%5D\" target=\"_blank\"><span style=\"color: #0000ff; text-decoration-color: #0000ff; text-decoration: underline\">https://github.com/rapidsai/cudf/issues/new/choose</span></a><span style=\"color: #0000ff; text-decoration-color: #0000ff; text-decoration: underline\">.</span>\n",
       "</pre>\n"
      ],
      "text/plain": [
       "To request GPU support for any of these functions, please file a Github issue here: \n",
       "\u001b]8;id=666289;https://github.com/rapidsai/cudf/issues/new?assignees=&labels=%3F+-+Needs+Triage%2C+feature+request&projects=&template=pandas_function_request.md&title=%5BFEA%5D\u001b\\\u001b[4;94mhttps://github.com/rapidsai/cudf/issues/new/choose\u001b[0m\u001b]8;;\u001b\\\u001b[4;94m.\u001b[0m\n"
      ]
     },
     "metadata": {},
     "output_type": "display_data"
    }
   ],
   "source": [
    "%%cudf.pandas.profile\n",
    "df = pd.DataFrame({'a': [0, 1, 2], 'b': [3, 4, 3]})\n",
    "\n",
    "df.min(axis=1)\n",
    "out = df.groupby('a').filter(\n",
    "    lambda group: len(group) > 1\n",
    ")"
   ]
  },
  {
   "cell_type": "code",
   "execution_count": 24,
   "metadata": {},
   "outputs": [
    {
     "data": {
      "text/html": [
       "<pre style=\"white-space:pre;overflow-x:auto;line-height:normal;font-family:Menlo,'DejaVu Sans Mono',consolas,'Courier New',monospace\"><span style=\"font-style: italic\">                                                                                                  </span>\n",
       "<span style=\"font-style: italic\">                                    Total time elapsed: 0.463 seconds                             </span>\n",
       "<span style=\"font-style: italic\">                                                                                                  </span>\n",
       "<span style=\"font-style: italic\">                                                  Stats                                           </span>\n",
       "<span style=\"font-style: italic\">                                                                                                  </span>\n",
       "┏━━━━━━━━━━┳━━━━━━━━━━━━━━━━━━━━━━━━━━━━━━━━━━━━━━━━━━━━━━━━━━━━━━━━━┳━━━━━━━━━━━━━┳━━━━━━━━━━━━━┓\n",
       "┃<span style=\"font-weight: bold\"> Line no. </span>┃<span style=\"font-weight: bold\"> Line                                                    </span>┃<span style=\"font-weight: bold\"> GPU TIME(s) </span>┃<span style=\"font-weight: bold\"> CPU TIME(s) </span>┃\n",
       "┡━━━━━━━━━━╇━━━━━━━━━━━━━━━━━━━━━━━━━━━━━━━━━━━━━━━━━━━━━━━━━━━━━━━━━╇━━━━━━━━━━━━━╇━━━━━━━━━━━━━┩\n",
       "│ 1        │ <span style=\"color: #f8f8f2; text-decoration-color: #f8f8f2; background-color: #272822\">    df </span><span style=\"color: #ff4689; text-decoration-color: #ff4689; background-color: #272822\">=</span><span style=\"color: #f8f8f2; text-decoration-color: #f8f8f2; background-color: #272822\"> pd</span><span style=\"color: #ff4689; text-decoration-color: #ff4689; background-color: #272822\">.</span><span style=\"color: #f8f8f2; text-decoration-color: #f8f8f2; background-color: #272822\">DataFrame({</span><span style=\"color: #e6db74; text-decoration-color: #e6db74; background-color: #272822\">'a'</span><span style=\"color: #f8f8f2; text-decoration-color: #f8f8f2; background-color: #272822\">: [</span><span style=\"color: #ae81ff; text-decoration-color: #ae81ff; background-color: #272822\">0</span><span style=\"color: #f8f8f2; text-decoration-color: #f8f8f2; background-color: #272822\">, </span><span style=\"color: #ae81ff; text-decoration-color: #ae81ff; background-color: #272822\">1</span><span style=\"color: #f8f8f2; text-decoration-color: #f8f8f2; background-color: #272822\">, </span><span style=\"color: #ae81ff; text-decoration-color: #ae81ff; background-color: #272822\">2</span><span style=\"color: #f8f8f2; text-decoration-color: #f8f8f2; background-color: #272822\">], </span><span style=\"color: #e6db74; text-decoration-color: #e6db74; background-color: #272822\">'b'</span><span style=\"color: #f8f8f2; text-decoration-color: #f8f8f2; background-color: #272822\">: [</span><span style=\"color: #ae81ff; text-decoration-color: #ae81ff; background-color: #272822\">3</span><span style=\"color: #f8f8f2; text-decoration-color: #f8f8f2; background-color: #272822\">, </span><span style=\"color: #ae81ff; text-decoration-color: #ae81ff; background-color: #272822\">4</span><span style=\"color: #f8f8f2; text-decoration-color: #f8f8f2; background-color: #272822\">, </span><span style=\"color: #ae81ff; text-decoration-color: #ae81ff; background-color: #272822\">3</span><span style=\"color: #f8f8f2; text-decoration-color: #f8f8f2; background-color: #272822\">]})</span> │ 0.001777824 │             │\n",
       "│          │ <span style=\"background-color: #272822\">                                                       </span> │             │             │\n",
       "│ 3        │ <span style=\"color: #f8f8f2; text-decoration-color: #f8f8f2; background-color: #272822\">    df</span><span style=\"color: #ff4689; text-decoration-color: #ff4689; background-color: #272822\">.</span><span style=\"color: #f8f8f2; text-decoration-color: #f8f8f2; background-color: #272822\">min(axis</span><span style=\"color: #ff4689; text-decoration-color: #ff4689; background-color: #272822\">=</span><span style=\"color: #ae81ff; text-decoration-color: #ae81ff; background-color: #272822\">1</span><span style=\"color: #f8f8f2; text-decoration-color: #f8f8f2; background-color: #272822\">)</span><span style=\"background-color: #272822\">                                     </span> │ 0.003584588 │             │\n",
       "│          │ <span style=\"background-color: #272822\">                                                       </span> │             │             │\n",
       "│ 4        │ <span style=\"color: #f8f8f2; text-decoration-color: #f8f8f2; background-color: #272822\">    out </span><span style=\"color: #ff4689; text-decoration-color: #ff4689; background-color: #272822\">=</span><span style=\"color: #f8f8f2; text-decoration-color: #f8f8f2; background-color: #272822\"> df</span><span style=\"color: #ff4689; text-decoration-color: #ff4689; background-color: #272822\">.</span><span style=\"color: #f8f8f2; text-decoration-color: #f8f8f2; background-color: #272822\">groupby(</span><span style=\"color: #e6db74; text-decoration-color: #e6db74; background-color: #272822\">'a'</span><span style=\"color: #f8f8f2; text-decoration-color: #f8f8f2; background-color: #272822\">)</span><span style=\"color: #ff4689; text-decoration-color: #ff4689; background-color: #272822\">.</span><span style=\"color: #f8f8f2; text-decoration-color: #f8f8f2; background-color: #272822\">filter(</span><span style=\"background-color: #272822\">                      </span> │ 0.000271924 │             │\n",
       "│          │ <span style=\"background-color: #272822\">                                                       </span> │             │             │\n",
       "│ 5        │ <span style=\"color: #f8f8f2; text-decoration-color: #f8f8f2; background-color: #272822\">        </span><span style=\"color: #66d9ef; text-decoration-color: #66d9ef; background-color: #272822\">lambda</span><span style=\"color: #f8f8f2; text-decoration-color: #f8f8f2; background-color: #272822\"> group: len(group) </span><span style=\"color: #ff4689; text-decoration-color: #ff4689; background-color: #272822\">&gt;</span><span style=\"color: #f8f8f2; text-decoration-color: #f8f8f2; background-color: #272822\"> </span><span style=\"color: #ae81ff; text-decoration-color: #ae81ff; background-color: #272822\">1</span><span style=\"background-color: #272822\">                   </span> │             │ 0.000309368 │\n",
       "│          │ <span style=\"background-color: #272822\">                                                       </span> │             │             │\n",
       "└──────────┴─────────────────────────────────────────────────────────┴─────────────┴─────────────┘\n",
       "</pre>\n"
      ],
      "text/plain": [
       "\u001b[3m                                                                                                  \u001b[0m\n",
       "\u001b[3m                                    Total time elapsed: 0.463 seconds                             \u001b[0m\n",
       "\u001b[3m                                                                                                  \u001b[0m\n",
       "\u001b[3m                                                  Stats                                           \u001b[0m\n",
       "\u001b[3m                                                                                                  \u001b[0m\n",
       "┏━━━━━━━━━━┳━━━━━━━━━━━━━━━━━━━━━━━━━━━━━━━━━━━━━━━━━━━━━━━━━━━━━━━━━┳━━━━━━━━━━━━━┳━━━━━━━━━━━━━┓\n",
       "┃\u001b[1m \u001b[0m\u001b[1mLine no.\u001b[0m\u001b[1m \u001b[0m┃\u001b[1m \u001b[0m\u001b[1mLine                                                   \u001b[0m\u001b[1m \u001b[0m┃\u001b[1m \u001b[0m\u001b[1mGPU TIME(s)\u001b[0m\u001b[1m \u001b[0m┃\u001b[1m \u001b[0m\u001b[1mCPU TIME(s)\u001b[0m\u001b[1m \u001b[0m┃\n",
       "┡━━━━━━━━━━╇━━━━━━━━━━━━━━━━━━━━━━━━━━━━━━━━━━━━━━━━━━━━━━━━━━━━━━━━━╇━━━━━━━━━━━━━╇━━━━━━━━━━━━━┩\n",
       "│ 1        │ \u001b[38;2;248;248;242;48;2;39;40;34m    \u001b[0m\u001b[38;2;248;248;242;48;2;39;40;34mdf\u001b[0m\u001b[38;2;248;248;242;48;2;39;40;34m \u001b[0m\u001b[38;2;255;70;137;48;2;39;40;34m=\u001b[0m\u001b[38;2;248;248;242;48;2;39;40;34m \u001b[0m\u001b[38;2;248;248;242;48;2;39;40;34mpd\u001b[0m\u001b[38;2;255;70;137;48;2;39;40;34m.\u001b[0m\u001b[38;2;248;248;242;48;2;39;40;34mDataFrame\u001b[0m\u001b[38;2;248;248;242;48;2;39;40;34m(\u001b[0m\u001b[38;2;248;248;242;48;2;39;40;34m{\u001b[0m\u001b[38;2;230;219;116;48;2;39;40;34m'\u001b[0m\u001b[38;2;230;219;116;48;2;39;40;34ma\u001b[0m\u001b[38;2;230;219;116;48;2;39;40;34m'\u001b[0m\u001b[38;2;248;248;242;48;2;39;40;34m:\u001b[0m\u001b[38;2;248;248;242;48;2;39;40;34m \u001b[0m\u001b[38;2;248;248;242;48;2;39;40;34m[\u001b[0m\u001b[38;2;174;129;255;48;2;39;40;34m0\u001b[0m\u001b[38;2;248;248;242;48;2;39;40;34m,\u001b[0m\u001b[38;2;248;248;242;48;2;39;40;34m \u001b[0m\u001b[38;2;174;129;255;48;2;39;40;34m1\u001b[0m\u001b[38;2;248;248;242;48;2;39;40;34m,\u001b[0m\u001b[38;2;248;248;242;48;2;39;40;34m \u001b[0m\u001b[38;2;174;129;255;48;2;39;40;34m2\u001b[0m\u001b[38;2;248;248;242;48;2;39;40;34m]\u001b[0m\u001b[38;2;248;248;242;48;2;39;40;34m,\u001b[0m\u001b[38;2;248;248;242;48;2;39;40;34m \u001b[0m\u001b[38;2;230;219;116;48;2;39;40;34m'\u001b[0m\u001b[38;2;230;219;116;48;2;39;40;34mb\u001b[0m\u001b[38;2;230;219;116;48;2;39;40;34m'\u001b[0m\u001b[38;2;248;248;242;48;2;39;40;34m:\u001b[0m\u001b[38;2;248;248;242;48;2;39;40;34m \u001b[0m\u001b[38;2;248;248;242;48;2;39;40;34m[\u001b[0m\u001b[38;2;174;129;255;48;2;39;40;34m3\u001b[0m\u001b[38;2;248;248;242;48;2;39;40;34m,\u001b[0m\u001b[38;2;248;248;242;48;2;39;40;34m \u001b[0m\u001b[38;2;174;129;255;48;2;39;40;34m4\u001b[0m\u001b[38;2;248;248;242;48;2;39;40;34m,\u001b[0m\u001b[38;2;248;248;242;48;2;39;40;34m \u001b[0m\u001b[38;2;174;129;255;48;2;39;40;34m3\u001b[0m\u001b[38;2;248;248;242;48;2;39;40;34m]\u001b[0m\u001b[38;2;248;248;242;48;2;39;40;34m}\u001b[0m\u001b[38;2;248;248;242;48;2;39;40;34m)\u001b[0m │ 0.001777824 │             │\n",
       "│          │ \u001b[48;2;39;40;34m                                                       \u001b[0m │             │             │\n",
       "│ 3        │ \u001b[38;2;248;248;242;48;2;39;40;34m    \u001b[0m\u001b[38;2;248;248;242;48;2;39;40;34mdf\u001b[0m\u001b[38;2;255;70;137;48;2;39;40;34m.\u001b[0m\u001b[38;2;248;248;242;48;2;39;40;34mmin\u001b[0m\u001b[38;2;248;248;242;48;2;39;40;34m(\u001b[0m\u001b[38;2;248;248;242;48;2;39;40;34maxis\u001b[0m\u001b[38;2;255;70;137;48;2;39;40;34m=\u001b[0m\u001b[38;2;174;129;255;48;2;39;40;34m1\u001b[0m\u001b[38;2;248;248;242;48;2;39;40;34m)\u001b[0m\u001b[48;2;39;40;34m                                     \u001b[0m │ 0.003584588 │             │\n",
       "│          │ \u001b[48;2;39;40;34m                                                       \u001b[0m │             │             │\n",
       "│ 4        │ \u001b[38;2;248;248;242;48;2;39;40;34m    \u001b[0m\u001b[38;2;248;248;242;48;2;39;40;34mout\u001b[0m\u001b[38;2;248;248;242;48;2;39;40;34m \u001b[0m\u001b[38;2;255;70;137;48;2;39;40;34m=\u001b[0m\u001b[38;2;248;248;242;48;2;39;40;34m \u001b[0m\u001b[38;2;248;248;242;48;2;39;40;34mdf\u001b[0m\u001b[38;2;255;70;137;48;2;39;40;34m.\u001b[0m\u001b[38;2;248;248;242;48;2;39;40;34mgroupby\u001b[0m\u001b[38;2;248;248;242;48;2;39;40;34m(\u001b[0m\u001b[38;2;230;219;116;48;2;39;40;34m'\u001b[0m\u001b[38;2;230;219;116;48;2;39;40;34ma\u001b[0m\u001b[38;2;230;219;116;48;2;39;40;34m'\u001b[0m\u001b[38;2;248;248;242;48;2;39;40;34m)\u001b[0m\u001b[38;2;255;70;137;48;2;39;40;34m.\u001b[0m\u001b[38;2;248;248;242;48;2;39;40;34mfilter\u001b[0m\u001b[38;2;248;248;242;48;2;39;40;34m(\u001b[0m\u001b[48;2;39;40;34m                      \u001b[0m │ 0.000271924 │             │\n",
       "│          │ \u001b[48;2;39;40;34m                                                       \u001b[0m │             │             │\n",
       "│ 5        │ \u001b[38;2;248;248;242;48;2;39;40;34m        \u001b[0m\u001b[38;2;102;217;239;48;2;39;40;34mlambda\u001b[0m\u001b[38;2;248;248;242;48;2;39;40;34m \u001b[0m\u001b[38;2;248;248;242;48;2;39;40;34mgroup\u001b[0m\u001b[38;2;248;248;242;48;2;39;40;34m:\u001b[0m\u001b[38;2;248;248;242;48;2;39;40;34m \u001b[0m\u001b[38;2;248;248;242;48;2;39;40;34mlen\u001b[0m\u001b[38;2;248;248;242;48;2;39;40;34m(\u001b[0m\u001b[38;2;248;248;242;48;2;39;40;34mgroup\u001b[0m\u001b[38;2;248;248;242;48;2;39;40;34m)\u001b[0m\u001b[38;2;248;248;242;48;2;39;40;34m \u001b[0m\u001b[38;2;255;70;137;48;2;39;40;34m>\u001b[0m\u001b[38;2;248;248;242;48;2;39;40;34m \u001b[0m\u001b[38;2;174;129;255;48;2;39;40;34m1\u001b[0m\u001b[48;2;39;40;34m                   \u001b[0m │             │ 0.000309368 │\n",
       "│          │ \u001b[48;2;39;40;34m                                                       \u001b[0m │             │             │\n",
       "└──────────┴─────────────────────────────────────────────────────────┴─────────────┴─────────────┘\n"
      ]
     },
     "metadata": {},
     "output_type": "display_data"
    }
   ],
   "source": [
    "%%cudf.pandas.line_profile\n",
    "df = pd.DataFrame({'a': [0, 1, 2], 'b': [3, 4, 3]})\n",
    "\n",
    "df.min(axis=1)\n",
    "out = df.groupby('a').filter(\n",
    "    lambda group: len(group) > 1\n",
    ")\n",
    "\n"
   ]
  },
  {
   "cell_type": "code",
   "execution_count": 9,
   "metadata": {},
   "outputs": [
    {
     "name": "stdout",
     "output_type": "stream",
     "text": [
      "   A   B   C\n",
      "0  1  10  11\n",
      "1  2  20  22\n",
      "2  3  30  33\n",
      "3  4  40  44\n",
      "4  5  50  55\n"
     ]
    },
    {
     "name": "stderr",
     "output_type": "stream",
     "text": [
      "/home/cismine/anaconda3/envs/ML_GPU/lib/python3.11/site-packages/cudf/core/indexed_frame.py:3566: UserWarning: GPU-accelerated mergesort is currently not supported, defaulting to quicksort.\n",
      "  warnings.warn(\n"
     ]
    },
    {
     "data": {
      "image/png": "[encoded data removed]",
      "text/plain": [
       "<Figure size 640x480 with 1 Axes>"
      ]
     },
     "metadata": {},
     "output_type": "display_data"
    },
    {
     "data": {
      "text/html": [
       "<pre style=\"white-space:pre;overflow-x:auto;line-height:normal;font-family:Menlo,'DejaVu Sans Mono',consolas,'Courier New',monospace\"><span style=\"font-style: italic\">                                                                                                                  </span>\n",
       "<span style=\"font-style: italic\">                                            Total time elapsed: 0.575 seconds                                     </span>\n",
       "<span style=\"font-style: italic\">                                         142 GPU function calls in 0.167 seconds                                  </span>\n",
       "<span style=\"font-style: italic\">                                          40 CPU function calls in 0.066 seconds                                  </span>\n",
       "<span style=\"font-style: italic\">                                                                                                                  </span>\n",
       "<span style=\"font-style: italic\">                                                          Stats                                                   </span>\n",
       "<span style=\"font-style: italic\">                                                                                                                  </span>\n",
       "┏━━━━━━━━━━━━━━━━━━━━━━━━━━━━━━┳━━━━━━━━━━━━┳━━━━━━━━━━━━━┳━━━━━━━━━━━━━┳━━━━━━━━━━━━┳━━━━━━━━━━━━━┳━━━━━━━━━━━━━┓\n",
       "┃<span style=\"font-weight: bold\"> Function                     </span>┃<span style=\"font-weight: bold\"> GPU ncalls </span>┃<span style=\"font-weight: bold\"> GPU cumtime </span>┃<span style=\"font-weight: bold\"> GPU percall </span>┃<span style=\"font-weight: bold\"> CPU ncalls </span>┃<span style=\"font-weight: bold\"> CPU cumtime </span>┃<span style=\"font-weight: bold\"> CPU percall </span>┃\n",
       "┡━━━━━━━━━━━━━━━━━━━━━━━━━━━━━━╇━━━━━━━━━━━━╇━━━━━━━━━━━━━╇━━━━━━━━━━━━━╇━━━━━━━━━━━━╇━━━━━━━━━━━━━╇━━━━━━━━━━━━━┩\n",
       "│ DataFrame                    │ 2          │ 0.012       │ 0.006       │ 0          │ 0.000       │ 0.000       │\n",
       "│ DataFrame.__getitem__        │ 26         │ 0.018       │ 0.001       │ 0          │ 0.000       │ 0.000       │\n",
       "│ OpsMixin.__add__             │ 2          │ 0.002       │ 0.001       │ 0          │ 0.000       │ 0.000       │\n",
       "│ DataFrame.__setitem__        │ 10         │ 0.009       │ 0.001       │ 0          │ 0.000       │ 0.000       │\n",
       "│ object.__str__               │ 1          │ 0.005       │ 0.005       │ 0          │ 0.000       │ 0.000       │\n",
       "│ Index.to_frame               │ 1          │ 0.001       │ 0.001       │ 0          │ 0.000       │ 0.000       │\n",
       "│ DataFrame.to_dict            │ 2          │ 0.005       │ 0.003       │ 0          │ 0.000       │ 0.000       │\n",
       "│ NDFrame.__contains__         │ 12         │ 0.005       │ 0.000       │ 0          │ 0.000       │ 0.000       │\n",
       "│ Series                       │ 19         │ 0.034       │ 0.002       │ 0          │ 0.000       │ 0.000       │\n",
       "│ isna                         │ 0          │ 0.000       │ 0.000       │ 7          │ 0.008       │ 0.001       │\n",
       "│ Series.all                   │ 9          │ 0.010       │ 0.001       │ 0          │ 0.000       │ 0.000       │\n",
       "│ Series.dropna                │ 10         │ 0.019       │ 0.002       │ 0          │ 0.000       │ 0.000       │\n",
       "│ ndarray.all                  │ 7          │ 0.003       │ 0.000       │ 0          │ 0.000       │ 0.000       │\n",
       "│ is_numeric_dtype             │ 7          │ 0.009       │ 0.001       │ 0          │ 0.000       │ 0.000       │\n",
       "│ NDFrame.get                  │ 0          │ 0.000       │ 0.000       │ 4          │ 0.010       │ 0.002       │\n",
       "│ Series.isna                  │ 2          │ 0.003       │ 0.001       │ 0          │ 0.000       │ 0.000       │\n",
       "│ Series.unique                │ 2          │ 0.002       │ 0.001       │ 1          │ 0.002       │ 0.002       │\n",
       "│ notna                        │ 0          │ 0.000       │ 0.000       │ 15         │ 0.002       │ 0.000       │\n",
       "│ DataFrame.sort_values        │ 1          │ 0.003       │ 0.003       │ 0          │ 0.000       │ 0.000       │\n",
       "│ Index                        │ 1          │ 0.001       │ 0.001       │ 0          │ 0.000       │ 0.000       │\n",
       "│ NDFrame.astype               │ 2          │ 0.002       │ 0.001       │ 0          │ 0.000       │ 0.000       │\n",
       "│ Index.astype                 │ 1          │ 0.001       │ 0.001       │ 0          │ 0.000       │ 0.000       │\n",
       "│ _LocationIndexer.__setitem__ │ 0          │ 0.000       │ 0.000       │ 2          │ 0.004       │ 0.002       │\n",
       "│ Series.groupby               │ 0          │ 0.000       │ 0.000       │ 4          │ 0.009       │ 0.002       │\n",
       "│ BaseGroupBy.__iter__         │ 0          │ 0.000       │ 0.000       │ 4          │ 0.008       │ 0.002       │\n",
       "│ IndexOpsMixin.to_numpy       │ 3          │ 0.003       │ 0.001       │ 0          │ 0.000       │ 0.000       │\n",
       "│ is_datetime64_dtype          │ 1          │ 0.000       │ 0.000       │ 0          │ 0.000       │ 0.000       │\n",
       "│ NDFrame.copy                 │ 2          │ 0.001       │ 0.000       │ 0          │ 0.000       │ 0.000       │\n",
       "│ DataFrame.drop               │ 1          │ 0.001       │ 0.001       │ 0          │ 0.000       │ 0.000       │\n",
       "│ Series.isin                  │ 3          │ 0.005       │ 0.002       │ 0          │ 0.000       │ 0.000       │\n",
       "│ NDFrame.mask                 │ 0          │ 0.000       │ 0.000       │ 2          │ 0.009       │ 0.005       │\n",
       "│ to_numeric                   │ 2          │ 0.002       │ 0.001       │ 0          │ 0.000       │ 0.000       │\n",
       "│ concat                       │ 2          │ 0.001       │ 0.001       │ 0          │ 0.000       │ 0.000       │\n",
       "│ DataFrame.insert             │ 2          │ 0.003       │ 0.002       │ 0          │ 0.000       │ 0.000       │\n",
       "│ Series.__getitem__           │ 1          │ 0.002       │ 0.002       │ 0          │ 0.000       │ 0.000       │\n",
       "│ ndarray.astype               │ 1          │ 0.000       │ 0.000       │ 0          │ 0.000       │ 0.000       │\n",
       "│ DataFrame.dropna             │ 1          │ 0.002       │ 0.002       │ 0          │ 0.000       │ 0.000       │\n",
       "│ DataFrame.groupby            │ 1          │ 0.000       │ 0.000       │ 0          │ 0.000       │ 0.000       │\n",
       "│ GroupBy.apply                │ 0          │ 0.000       │ 0.000       │ 1          │ 0.016       │ 0.016       │\n",
       "│ DataFrame.reset_index        │ 1          │ 0.002       │ 0.002       │ 0          │ 0.000       │ 0.000       │\n",
       "│ OpsMixin.__truediv__         │ 2          │ 0.001       │ 0.001       │ 0          │ 0.000       │ 0.000       │\n",
       "│ OpsMixin.__sub__             │ 2          │ 0.001       │ 0.001       │ 0          │ 0.000       │ 0.000       │\n",
       "└──────────────────────────────┴────────────┴─────────────┴─────────────┴────────────┴─────────────┴─────────────┘\n",
       "</pre>\n"
      ],
      "text/plain": [
       "\u001b[3m                                                                                                                  \u001b[0m\n",
       "\u001b[3m                                            Total time elapsed: 0.575 seconds                                     \u001b[0m\n",
       "\u001b[3m                                         142 GPU function calls in 0.167 seconds                                  \u001b[0m\n",
       "\u001b[3m                                          40 CPU function calls in 0.066 seconds                                  \u001b[0m\n",
       "\u001b[3m                                                                                                                  \u001b[0m\n",
       "\u001b[3m                                                          Stats                                                   \u001b[0m\n",
       "\u001b[3m                                                                                                                  \u001b[0m\n",
       "┏━━━━━━━━━━━━━━━━━━━━━━━━━━━━━━┳━━━━━━━━━━━━┳━━━━━━━━━━━━━┳━━━━━━━━━━━━━┳━━━━━━━━━━━━┳━━━━━━━━━━━━━┳━━━━━━━━━━━━━┓\n",
       "┃\u001b[1m \u001b[0m\u001b[1mFunction                    \u001b[0m\u001b[1m \u001b[0m┃\u001b[1m \u001b[0m\u001b[1mGPU ncalls\u001b[0m\u001b[1m \u001b[0m┃\u001b[1m \u001b[0m\u001b[1mGPU cumtime\u001b[0m\u001b[1m \u001b[0m┃\u001b[1m \u001b[0m\u001b[1mGPU percall\u001b[0m\u001b[1m \u001b[0m┃\u001b[1m \u001b[0m\u001b[1mCPU ncalls\u001b[0m\u001b[1m \u001b[0m┃\u001b[1m \u001b[0m\u001b[1mCPU cumtime\u001b[0m\u001b[1m \u001b[0m┃\u001b[1m \u001b[0m\u001b[1mCPU percall\u001b[0m\u001b[1m \u001b[0m┃\n",
       "┡━━━━━━━━━━━━━━━━━━━━━━━━━━━━━━╇━━━━━━━━━━━━╇━━━━━━━━━━━━━╇━━━━━━━━━━━━━╇━━━━━━━━━━━━╇━━━━━━━━━━━━━╇━━━━━━━━━━━━━┩\n",
       "│ DataFrame                    │ 2          │ 0.012       │ 0.006       │ 0          │ 0.000       │ 0.000       │\n",
       "│ DataFrame.__getitem__        │ 26         │ 0.018       │ 0.001       │ 0          │ 0.000       │ 0.000       │\n",
       "│ OpsMixin.__add__             │ 2          │ 0.002       │ 0.001       │ 0          │ 0.000       │ 0.000       │\n",
       "│ DataFrame.__setitem__        │ 10         │ 0.009       │ 0.001       │ 0          │ 0.000       │ 0.000       │\n",
       "│ object.__str__               │ 1          │ 0.005       │ 0.005       │ 0          │ 0.000       │ 0.000       │\n",
       "│ Index.to_frame               │ 1          │ 0.001       │ 0.001       │ 0          │ 0.000       │ 0.000       │\n",
       "│ DataFrame.to_dict            │ 2          │ 0.005       │ 0.003       │ 0          │ 0.000       │ 0.000       │\n",
       "│ NDFrame.__contains__         │ 12         │ 0.005       │ 0.000       │ 0          │ 0.000       │ 0.000       │\n",
       "│ Series                       │ 19         │ 0.034       │ 0.002       │ 0          │ 0.000       │ 0.000       │\n",
       "│ isna                         │ 0          │ 0.000       │ 0.000       │ 7          │ 0.008       │ 0.001       │\n",
       "│ Series.all                   │ 9          │ 0.010       │ 0.001       │ 0          │ 0.000       │ 0.000       │\n",
       "│ Series.dropna                │ 10         │ 0.019       │ 0.002       │ 0          │ 0.000       │ 0.000       │\n",
       "│ ndarray.all                  │ 7          │ 0.003       │ 0.000       │ 0          │ 0.000       │ 0.000       │\n",
       "│ is_numeric_dtype             │ 7          │ 0.009       │ 0.001       │ 0          │ 0.000       │ 0.000       │\n",
       "│ NDFrame.get                  │ 0          │ 0.000       │ 0.000       │ 4          │ 0.010       │ 0.002       │\n",
       "│ Series.isna                  │ 2          │ 0.003       │ 0.001       │ 0          │ 0.000       │ 0.000       │\n",
       "│ Series.unique                │ 2          │ 0.002       │ 0.001       │ 1          │ 0.002       │ 0.002       │\n",
       "│ notna                        │ 0          │ 0.000       │ 0.000       │ 15         │ 0.002       │ 0.000       │\n",
       "│ DataFrame.sort_values        │ 1          │ 0.003       │ 0.003       │ 0          │ 0.000       │ 0.000       │\n",
       "│ Index                        │ 1          │ 0.001       │ 0.001       │ 0          │ 0.000       │ 0.000       │\n",
       "│ NDFrame.astype               │ 2          │ 0.002       │ 0.001       │ 0          │ 0.000       │ 0.000       │\n",
       "│ Index.astype                 │ 1          │ 0.001       │ 0.001       │ 0          │ 0.000       │ 0.000       │\n",
       "│ _LocationIndexer.__setitem__ │ 0          │ 0.000       │ 0.000       │ 2          │ 0.004       │ 0.002       │\n",
       "│ Series.groupby               │ 0          │ 0.000       │ 0.000       │ 4          │ 0.009       │ 0.002       │\n",
       "│ BaseGroupBy.__iter__         │ 0          │ 0.000       │ 0.000       │ 4          │ 0.008       │ 0.002       │\n",
       "│ IndexOpsMixin.to_numpy       │ 3          │ 0.003       │ 0.001       │ 0          │ 0.000       │ 0.000       │\n",
       "│ is_datetime64_dtype          │ 1          │ 0.000       │ 0.000       │ 0          │ 0.000       │ 0.000       │\n",
       "│ NDFrame.copy                 │ 2          │ 0.001       │ 0.000       │ 0          │ 0.000       │ 0.000       │\n",
       "│ DataFrame.drop               │ 1          │ 0.001       │ 0.001       │ 0          │ 0.000       │ 0.000       │\n",
       "│ Series.isin                  │ 3          │ 0.005       │ 0.002       │ 0          │ 0.000       │ 0.000       │\n",
       "│ NDFrame.mask                 │ 0          │ 0.000       │ 0.000       │ 2          │ 0.009       │ 0.005       │\n",
       "│ to_numeric                   │ 2          │ 0.002       │ 0.001       │ 0          │ 0.000       │ 0.000       │\n",
       "│ concat                       │ 2          │ 0.001       │ 0.001       │ 0          │ 0.000       │ 0.000       │\n",
       "│ DataFrame.insert             │ 2          │ 0.003       │ 0.002       │ 0          │ 0.000       │ 0.000       │\n",
       "│ Series.__getitem__           │ 1          │ 0.002       │ 0.002       │ 0          │ 0.000       │ 0.000       │\n",
       "│ ndarray.astype               │ 1          │ 0.000       │ 0.000       │ 0          │ 0.000       │ 0.000       │\n",
       "│ DataFrame.dropna             │ 1          │ 0.002       │ 0.002       │ 0          │ 0.000       │ 0.000       │\n",
       "│ DataFrame.groupby            │ 1          │ 0.000       │ 0.000       │ 0          │ 0.000       │ 0.000       │\n",
       "│ GroupBy.apply                │ 0          │ 0.000       │ 0.000       │ 1          │ 0.016       │ 0.016       │\n",
       "│ DataFrame.reset_index        │ 1          │ 0.002       │ 0.002       │ 0          │ 0.000       │ 0.000       │\n",
       "│ OpsMixin.__truediv__         │ 2          │ 0.001       │ 0.001       │ 0          │ 0.000       │ 0.000       │\n",
       "│ OpsMixin.__sub__             │ 2          │ 0.001       │ 0.001       │ 0          │ 0.000       │ 0.000       │\n",
       "└──────────────────────────────┴────────────┴─────────────┴─────────────┴────────────┴─────────────┴─────────────┘\n"
      ]
     },
     "metadata": {},
     "output_type": "display_data"
    },
    {
     "data": {
      "text/html": [
       "<pre style=\"white-space:pre;overflow-x:auto;line-height:normal;font-family:Menlo,'DejaVu Sans Mono',consolas,'Courier New',monospace\">Not all pandas operations ran on the GPU. The following functions required CPU fallback:\n",
       "\n",
       "- isna\n",
       "- NDFrame.get\n",
       "- Series.unique\n",
       "- notna\n",
       "- _LocationIndexer.__setitem__\n",
       "- Series.groupby\n",
       "- BaseGroupBy.__iter__\n",
       "- NDFrame.mask\n",
       "- GroupBy.apply\n",
       "\n",
       "</pre>\n"
      ],
      "text/plain": [
       "Not all pandas operations ran on the GPU. The following functions required CPU fallback:\n",
       "\n",
       "- isna\n",
       "- NDFrame.get\n",
       "- Series.unique\n",
       "- notna\n",
       "- _LocationIndexer.__setitem__\n",
       "- Series.groupby\n",
       "- BaseGroupBy.__iter__\n",
       "- NDFrame.mask\n",
       "- GroupBy.apply\n",
       "\n"
      ]
     },
     "metadata": {},
     "output_type": "display_data"
    },
    {
     "data": {
      "text/html": [
       "<pre style=\"white-space:pre;overflow-x:auto;line-height:normal;font-family:Menlo,'DejaVu Sans Mono',consolas,'Courier New',monospace\">To request GPU support for any of these functions, please file a Github issue here: \n",
       "<a href=\"https://github.com/rapidsai/cudf/issues/new?assignees=&labels=%3F+-+Needs+Triage%2C+feature+request&projects=&template=pandas_function_request.md&title=%5BFEA%5D\" target=\"_blank\"><span style=\"color: #0000ff; text-decoration-color: #0000ff; text-decoration: underline\">https://github.com/rapidsai/cudf/issues/new/choose</span></a><span style=\"color: #0000ff; text-decoration-color: #0000ff; text-decoration: underline\">.</span>\n",
       "</pre>\n"
      ],
      "text/plain": [
       "To request GPU support for any of these functions, please file a Github issue here: \n",
       "\u001b]8;id=467873;https://github.com/rapidsai/cudf/issues/new?assignees=&labels=%3F+-+Needs+Triage%2C+feature+request&projects=&template=pandas_function_request.md&title=%5BFEA%5D\u001b\\\u001b[4;94mhttps://github.com/rapidsai/cudf/issues/new/choose\u001b[0m\u001b]8;;\u001b\\\u001b[4;94m.\u001b[0m\n"
      ]
     },
     "metadata": {},
     "output_type": "display_data"
    }
   ],
   "source": [
    "\n",
    "%%cudf.pandas.profile\n",
    "\n",
    "import seaborn as sns\n",
    "import matplotlib.pyplot as plt\n",
    "\n",
    "\n",
    "df = pd.DataFrame({\n",
    "    'A': [1, 2, 3, 4, 5],\n",
    "    'B': [10, 20, 30, 40, 50]\n",
    "})\n",
    "\n",
    "df['C'] = df['A'] + df['B']\n",
    "print(df)\n",
    "\n",
    "sns.barplot(x='A', y='B', data=df)\n",
    "plt.show()"
   ]
  }
 ],
 "metadata": {
  "kernelspec": {
   "display_name": "ML_GPU",
   "language": "python",
   "name": "python3"
  },
  "language_info": {
   "codemirror_mode": {
    "name": "ipython",
    "version": 3
   },
   "file_extension": ".py",
   "mimetype": "text/x-python",
   "name": "python",
   "nbconvert_exporter": "python",
   "pygments_lexer": "ipython3",
   "version": "3.11.9"
  }
 },
 "nbformat": 4,
 "nbformat_minor": 2
}
